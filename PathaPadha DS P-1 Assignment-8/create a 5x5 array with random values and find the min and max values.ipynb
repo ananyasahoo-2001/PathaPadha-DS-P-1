{
 "cells": [
  {
   "cell_type": "code",
   "execution_count": 2,
   "id": "9d44525a",
   "metadata": {},
   "outputs": [],
   "source": [
    "import numpy as np\n",
    "arr = np.random.random((5,5))"
   ]
  },
  {
   "cell_type": "code",
   "execution_count": 3,
   "id": "fdb15c07",
   "metadata": {},
   "outputs": [
    {
     "data": {
      "text/plain": [
       "array([[0.72405081, 0.29093622, 0.28503391, 0.05924698, 0.19772073],\n",
       "       [0.81275371, 0.37129875, 0.34807104, 0.22528433, 0.49298478],\n",
       "       [0.40784121, 0.31821585, 0.71470022, 0.67977317, 0.0595439 ],\n",
       "       [0.16614947, 0.15378554, 0.98502087, 0.84016537, 0.2297939 ],\n",
       "       [0.4544153 , 0.19207356, 0.23444301, 0.80173607, 0.85026604]])"
      ]
     },
     "execution_count": 3,
     "metadata": {},
     "output_type": "execute_result"
    }
   ],
   "source": [
    "arr"
   ]
  },
  {
   "cell_type": "code",
   "execution_count": 4,
   "id": "4edd37c8",
   "metadata": {},
   "outputs": [
    {
     "data": {
      "text/plain": [
       "0.9850208698172042"
      ]
     },
     "execution_count": 4,
     "metadata": {},
     "output_type": "execute_result"
    }
   ],
   "source": [
    "np.max(arr)"
   ]
  },
  {
   "cell_type": "code",
   "execution_count": 5,
   "id": "da360db2",
   "metadata": {},
   "outputs": [
    {
     "data": {
      "text/plain": [
       "0.05924698422769825"
      ]
     },
     "execution_count": 5,
     "metadata": {},
     "output_type": "execute_result"
    }
   ],
   "source": [
    "np.min(arr)"
   ]
  },
  {
   "cell_type": "code",
   "execution_count": null,
   "id": "38cc606d",
   "metadata": {},
   "outputs": [],
   "source": []
  }
 ],
 "metadata": {
  "kernelspec": {
   "display_name": "Python 3",
   "language": "python",
   "name": "python3"
  },
  "language_info": {
   "codemirror_mode": {
    "name": "ipython",
    "version": 3
   },
   "file_extension": ".py",
   "mimetype": "text/x-python",
   "name": "python",
   "nbconvert_exporter": "python",
   "pygments_lexer": "ipython3",
   "version": "3.8.8"
  }
 },
 "nbformat": 4,
 "nbformat_minor": 5
}
