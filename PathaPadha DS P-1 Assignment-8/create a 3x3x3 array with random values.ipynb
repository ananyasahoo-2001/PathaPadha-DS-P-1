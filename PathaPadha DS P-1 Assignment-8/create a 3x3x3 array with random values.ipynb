{
 "cells": [
  {
   "cell_type": "code",
   "execution_count": 5,
   "id": "2a4a717a",
   "metadata": {},
   "outputs": [],
   "source": [
    "import numpy as np\n",
    "arr = np.random.random((3,3,3))"
   ]
  },
  {
   "cell_type": "code",
   "execution_count": 6,
   "id": "f6a74957",
   "metadata": {},
   "outputs": [
    {
     "data": {
      "text/plain": [
       "array([[[0.66381435, 0.41507678, 0.69827172],\n",
       "        [0.66519545, 0.41958234, 0.63829916],\n",
       "        [0.13462849, 0.20265782, 0.88198737]],\n",
       "\n",
       "       [[0.90274528, 0.74997482, 0.61644834],\n",
       "        [0.83497756, 0.30071885, 0.43558031],\n",
       "        [0.90854163, 0.59202154, 0.4972457 ]],\n",
       "\n",
       "       [[0.70383623, 0.85793184, 0.6956355 ],\n",
       "        [0.8992178 , 0.21502661, 0.62036577],\n",
       "        [0.04368296, 0.86020973, 0.17541079]]])"
      ]
     },
     "execution_count": 6,
     "metadata": {},
     "output_type": "execute_result"
    }
   ],
   "source": [
    "arr"
   ]
  },
  {
   "cell_type": "code",
   "execution_count": null,
   "id": "c60269ed",
   "metadata": {},
   "outputs": [],
   "source": []
  }
 ],
 "metadata": {
  "kernelspec": {
   "display_name": "Python 3",
   "language": "python",
   "name": "python3"
  },
  "language_info": {
   "codemirror_mode": {
    "name": "ipython",
    "version": 3
   },
   "file_extension": ".py",
   "mimetype": "text/x-python",
   "name": "python",
   "nbconvert_exporter": "python",
   "pygments_lexer": "ipython3",
   "version": "3.8.8"
  }
 },
 "nbformat": 4,
 "nbformat_minor": 5
}
