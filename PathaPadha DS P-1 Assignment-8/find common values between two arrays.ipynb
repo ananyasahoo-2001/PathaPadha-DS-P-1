{
 "cells": [
  {
   "cell_type": "code",
   "execution_count": 9,
   "id": "58370b8d",
   "metadata": {},
   "outputs": [],
   "source": [
    "import numpy as np\n",
    "arr_1 = np.array([7,8,4,3,10,13,15] , dtype = \"int\")\n",
    "arr_2 = np.array([10,12,13,7,9,18,8] , dtype = \"int\")"
   ]
  },
  {
   "cell_type": "code",
   "execution_count": 10,
   "id": "e9a50c20",
   "metadata": {},
   "outputs": [],
   "source": [
    "arr = np.array([] , dtype = \"int\")"
   ]
  },
  {
   "cell_type": "code",
   "execution_count": 11,
   "id": "b6ae9d46",
   "metadata": {},
   "outputs": [],
   "source": [
    "for i in arr_1:\n",
    "    if i in arr_2:\n",
    "        arr = np.append(arr,i)"
   ]
  },
  {
   "cell_type": "code",
   "execution_count": 12,
   "id": "e85fc143",
   "metadata": {},
   "outputs": [
    {
     "data": {
      "text/plain": [
       "array([ 7,  8, 10, 13])"
      ]
     },
     "execution_count": 12,
     "metadata": {},
     "output_type": "execute_result"
    }
   ],
   "source": [
    "arr"
   ]
  },
  {
   "cell_type": "code",
   "execution_count": null,
   "id": "a1d07cf6",
   "metadata": {},
   "outputs": [],
   "source": []
  }
 ],
 "metadata": {
  "kernelspec": {
   "display_name": "Python 3",
   "language": "python",
   "name": "python3"
  },
  "language_info": {
   "codemirror_mode": {
    "name": "ipython",
    "version": 3
   },
   "file_extension": ".py",
   "mimetype": "text/x-python",
   "name": "python",
   "nbconvert_exporter": "python",
   "pygments_lexer": "ipython3",
   "version": "3.8.8"
  }
 },
 "nbformat": 4,
 "nbformat_minor": 5
}
